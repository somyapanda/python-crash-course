{
 "cells": [
  {
   "cell_type": "markdown",
   "id": "violent-strength",
   "metadata": {},
   "source": [
    "# Variables and Simple Date Types"
   ]
  },
  {
   "cell_type": "markdown",
   "id": "permanent-xerox",
   "metadata": {},
   "source": [
    "Let's print Hello World in Python."
   ]
  },
  {
   "cell_type": "code",
   "execution_count": 1,
   "id": "infectious-listing",
   "metadata": {},
   "outputs": [
    {
     "name": "stdout",
     "output_type": "stream",
     "text": [
      "Hello World!\n"
     ]
    }
   ],
   "source": [
    "print(\"Hello World!\")"
   ]
  },
  {
   "cell_type": "markdown",
   "id": "cutting-tunnel",
   "metadata": {},
   "source": [
    "## Variables:\n",
    "    Adding a variable named message. \n",
    "    Every variable is connected to a value, which is the information with that variable.\n",
    "    In this case the value is \"Hello Python World!\" text."
   ]
  },
  {
   "cell_type": "code",
   "execution_count": 2,
   "id": "sharing-upset",
   "metadata": {},
   "outputs": [
    {
     "name": "stdout",
     "output_type": "stream",
     "text": [
      "Hello Python World!\n"
     ]
    }
   ],
   "source": [
    "message = \"Hello Python World!\"\n",
    "print(message)"
   ]
  },
  {
   "cell_type": "markdown",
   "id": "conservative-hacker",
   "metadata": {},
   "source": [
    "Now modify the previous one to print a second message.\n",
    "Add a blank line and then add two new line of code:"
   ]
  },
  {
   "cell_type": "code",
   "execution_count": 3,
   "id": "suburban-dakota",
   "metadata": {},
   "outputs": [
    {
     "name": "stdout",
     "output_type": "stream",
     "text": [
      "Hello Python World!\n",
      "Hello Python Crash Course World!\n"
     ]
    }
   ],
   "source": [
    "message = \"Hello Python World!\"\n",
    "print(message)\n",
    "\n",
    "message = \"Hello Python Crash Course World!\"\n",
    "print(message)"
   ]
  },
  {
   "cell_type": "markdown",
   "id": "basic-musical",
   "metadata": {},
   "source": [
    "### Naming and Using Variables:\n",
    "\n",
    "Variable names can contain only letters, numbers and underscores.\n",
    "    "
   ]
  },
  {
   "cell_type": "code",
   "execution_count": 5,
   "id": "third-revelation",
   "metadata": {},
   "outputs": [
    {
     "ename": "SyntaxError",
     "evalue": "invalid decimal literal (<ipython-input-5-28282633890a>, line 2)",
     "output_type": "error",
     "traceback": [
      "\u001b[0;36m  File \u001b[0;32m\"<ipython-input-5-28282633890a>\"\u001b[0;36m, line \u001b[0;32m2\u001b[0m\n\u001b[0;31m    1_message = \"Hello\" # invalid\u001b[0m\n\u001b[0m     ^\u001b[0m\n\u001b[0;31mSyntaxError\u001b[0m\u001b[0;31m:\u001b[0m invalid decimal literal\n"
     ]
    }
   ],
   "source": [
    "message_1 = \"Hello\" # valid\n",
    "1_message = \"Hello\" # invalid"
   ]
  },
  {
   "cell_type": "code",
   "execution_count": 6,
   "id": "after-destination",
   "metadata": {},
   "outputs": [
    {
     "ename": "SyntaxError",
     "evalue": "invalid syntax (<ipython-input-6-7bcfd18e1c6e>, line 2)",
     "output_type": "error",
     "traceback": [
      "\u001b[0;36m  File \u001b[0;32m\"<ipython-input-6-7bcfd18e1c6e>\"\u001b[0;36m, line \u001b[0;32m2\u001b[0m\n\u001b[0;31m    greeting message = \"Hi!\" # invalid\u001b[0m\n\u001b[0m             ^\u001b[0m\n\u001b[0;31mSyntaxError\u001b[0m\u001b[0;31m:\u001b[0m invalid syntax\n"
     ]
    }
   ],
   "source": [
    "greeting_message = \"Hi!\" # valid\n",
    "greeting message = \"Hi!\" # invalid"
   ]
  },
  {
   "cell_type": "code",
   "execution_count": null,
   "id": "optional-generation",
   "metadata": {},
   "outputs": [],
   "source": []
  }
 ],
 "metadata": {
  "kernelspec": {
   "display_name": "Python 3",
   "language": "python",
   "name": "python3"
  },
  "language_info": {
   "codemirror_mode": {
    "name": "ipython",
    "version": 3
   },
   "file_extension": ".py",
   "mimetype": "text/x-python",
   "name": "python",
   "nbconvert_exporter": "python",
   "pygments_lexer": "ipython3",
   "version": "3.8.5"
  }
 },
 "nbformat": 4,
 "nbformat_minor": 5
}
